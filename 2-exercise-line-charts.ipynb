{
 "cells": [
  {
   "cell_type": "markdown",
   "id": "ad9d12c4",
   "metadata": {
    "papermill": {
     "duration": 0.006819,
     "end_time": "2022-09-15T11:07:04.854754",
     "exception": false,
     "start_time": "2022-09-15T11:07:04.847935",
     "status": "completed"
    },
    "tags": []
   },
   "source": [
    "**This notebook is an exercise in the [Data Visualization](https://www.kaggle.com/learn/data-visualization) course.  You can reference the tutorial at [this link](https://www.kaggle.com/alexisbcook/line-charts).**\n",
    "\n",
    "---\n"
   ]
  },
  {
   "cell_type": "markdown",
   "id": "d475d350",
   "metadata": {
    "papermill": {
     "duration": 0.005286,
     "end_time": "2022-09-15T11:07:04.865750",
     "exception": false,
     "start_time": "2022-09-15T11:07:04.860464",
     "status": "completed"
    },
    "tags": []
   },
   "source": [
    "In this exercise, you will use your new knowledge to propose a solution to a real-world scenario. To succeed, you will need to import data into Python, answer questions using the data, and generate **line charts** to understand patterns in the data.\n",
    "\n",
    "## Scenario\n",
    "\n",
    "You have recently been hired to manage the museums in the City of Los Angeles. Your first project focuses on the four museums pictured in the images below.\n",
    "\n",
    "![ex1_museums](https://i.imgur.com/pFYL8J1.png)\n",
    "\n",
    "You will leverage data from the Los Angeles [Data Portal](https://data.lacity.org/) that tracks monthly visitors to each museum.  \n",
    "\n",
    "![ex1_xlsx](https://i.imgur.com/mGWYlym.png)\n",
    "\n",
    "## Setup\n",
    "\n",
    "Run the next cell to import and configure the Python libraries that you need to complete the exercise."
   ]
  },
  {
   "cell_type": "code",
   "execution_count": 1,
   "id": "7d04a069",
   "metadata": {
    "execution": {
     "iopub.execute_input": "2022-09-15T11:07:04.879695Z",
     "iopub.status.busy": "2022-09-15T11:07:04.878671Z",
     "iopub.status.idle": "2022-09-15T11:07:05.967976Z",
     "shell.execute_reply": "2022-09-15T11:07:05.966825Z"
    },
    "papermill": {
     "duration": 1.099286,
     "end_time": "2022-09-15T11:07:05.970565",
     "exception": false,
     "start_time": "2022-09-15T11:07:04.871279",
     "status": "completed"
    },
    "tags": []
   },
   "outputs": [
    {
     "name": "stdout",
     "output_type": "stream",
     "text": [
      "Setup Complete\n"
     ]
    }
   ],
   "source": [
    "import pandas as pd\n",
    "pd.plotting.register_matplotlib_converters()\n",
    "import matplotlib.pyplot as plt\n",
    "%matplotlib inline\n",
    "import seaborn as sns\n",
    "print(\"Setup Complete\")"
   ]
  },
  {
   "cell_type": "markdown",
   "id": "3345b583",
   "metadata": {
    "papermill": {
     "duration": 0.005494,
     "end_time": "2022-09-15T11:07:05.981883",
     "exception": false,
     "start_time": "2022-09-15T11:07:05.976389",
     "status": "completed"
    },
    "tags": []
   },
   "source": [
    "The questions below will give you feedback on your work. Run the following cell to set up the feedback system."
   ]
  },
  {
   "cell_type": "code",
   "execution_count": 2,
   "id": "c2330b0a",
   "metadata": {
    "execution": {
     "iopub.execute_input": "2022-09-15T11:07:05.995459Z",
     "iopub.status.busy": "2022-09-15T11:07:05.994784Z",
     "iopub.status.idle": "2022-09-15T11:07:06.071814Z",
     "shell.execute_reply": "2022-09-15T11:07:06.070663Z"
    },
    "papermill": {
     "duration": 0.086631,
     "end_time": "2022-09-15T11:07:06.074133",
     "exception": false,
     "start_time": "2022-09-15T11:07:05.987502",
     "status": "completed"
    },
    "tags": []
   },
   "outputs": [
    {
     "name": "stdout",
     "output_type": "stream",
     "text": [
      "Setup Complete\n"
     ]
    }
   ],
   "source": [
    "# Set up code checking\n",
    "import os\n",
    "if not os.path.exists(\"../input/museum_visitors.csv\"):\n",
    "    os.symlink(\"../input/data-for-datavis/museum_visitors.csv\", \"../input/museum_visitors.csv\") \n",
    "from learntools.core import binder\n",
    "binder.bind(globals())\n",
    "from learntools.data_viz_to_coder.ex2 import *\n",
    "print(\"Setup Complete\")"
   ]
  },
  {
   "cell_type": "markdown",
   "id": "eb219977",
   "metadata": {
    "papermill": {
     "duration": 0.005604,
     "end_time": "2022-09-15T11:07:06.086002",
     "exception": false,
     "start_time": "2022-09-15T11:07:06.080398",
     "status": "completed"
    },
    "tags": []
   },
   "source": [
    "## Step 1: Load the data\n",
    "\n",
    "Your first assignment is to read the LA Museum Visitors data file into `museum_data`.  Note that:\n",
    "- The filepath to the dataset is stored as `museum_filepath`.  Please **do not** change the provided value of the filepath.\n",
    "- The name of the column to use as row labels is `\"Date\"`.  (This can be seen in cell A1 when the file is opened in Excel.)\n",
    "\n",
    "To help with this, you may find it useful to revisit some relevant code from the tutorial, which we have pasted below:\n",
    "\n",
    "```python\n",
    "# Path of the file to read\n",
    "spotify_filepath = \"../input/spotify.csv\"\n",
    "\n",
    "# Read the file into a variable spotify_data\n",
    "spotify_data = pd.read_csv(spotify_filepath, index_col=\"Date\", parse_dates=True)\n",
    "```\n",
    "\n",
    "The code you need to write now looks very similar!"
   ]
  },
  {
   "cell_type": "code",
   "execution_count": 3,
   "id": "f056f47e",
   "metadata": {
    "execution": {
     "iopub.execute_input": "2022-09-15T11:07:06.101376Z",
     "iopub.status.busy": "2022-09-15T11:07:06.100965Z",
     "iopub.status.idle": "2022-09-15T11:07:06.120050Z",
     "shell.execute_reply": "2022-09-15T11:07:06.118931Z"
    },
    "papermill": {
     "duration": 0.03147,
     "end_time": "2022-09-15T11:07:06.123245",
     "exception": false,
     "start_time": "2022-09-15T11:07:06.091775",
     "status": "completed"
    },
    "tags": []
   },
   "outputs": [
    {
     "data": {
      "application/javascript": [
       "parent.postMessage({\"jupyterEvent\": \"custom.exercise_interaction\", \"data\": {\"outcomeType\": 1, \"valueTowardsCompletion\": 0.3333333333333333, \"interactionType\": 1, \"questionType\": 1, \"questionId\": \"1_LoadMuseumData\", \"learnToolsVersion\": \"0.3.4\", \"failureMessage\": \"\", \"exceptionClass\": \"\", \"trace\": \"\"}}, \"*\")"
      ],
      "text/plain": [
       "<IPython.core.display.Javascript object>"
      ]
     },
     "metadata": {},
     "output_type": "display_data"
    },
    {
     "data": {
      "text/markdown": [
       "<span style=\"color:#33cc33\">Correct</span>"
      ],
      "text/plain": [
       "Correct"
      ]
     },
     "metadata": {},
     "output_type": "display_data"
    }
   ],
   "source": [
    "# Path of the file to read\n",
    "museum_filepath = \"../input/museum_visitors.csv\"\n",
    "\n",
    "# Fill in the line below to read the file into a variable museum_data\n",
    "museum_data = pd.read_csv(museum_filepath, index_col=\"Date\", parse_dates=True)\n",
    "\n",
    "# Run the line below with no changes to check that you've loaded the data correctly\n",
    "step_1.check()"
   ]
  },
  {
   "cell_type": "code",
   "execution_count": 4,
   "id": "23fe5744",
   "metadata": {
    "execution": {
     "iopub.execute_input": "2022-09-15T11:07:06.140697Z",
     "iopub.status.busy": "2022-09-15T11:07:06.139938Z",
     "iopub.status.idle": "2022-09-15T11:07:06.150429Z",
     "shell.execute_reply": "2022-09-15T11:07:06.149633Z"
    },
    "papermill": {
     "duration": 0.021883,
     "end_time": "2022-09-15T11:07:06.152859",
     "exception": false,
     "start_time": "2022-09-15T11:07:06.130976",
     "status": "completed"
    },
    "tags": []
   },
   "outputs": [
    {
     "data": {
      "application/javascript": [
       "parent.postMessage({\"jupyterEvent\": \"custom.exercise_interaction\", \"data\": {\"interactionType\": 2, \"questionType\": 1, \"questionId\": \"1_LoadMuseumData\", \"learnToolsVersion\": \"0.3.4\", \"valueTowardsCompletion\": 0.0, \"failureMessage\": \"\", \"exceptionClass\": \"\", \"trace\": \"\", \"outcomeType\": 4}}, \"*\")"
      ],
      "text/plain": [
       "<IPython.core.display.Javascript object>"
      ]
     },
     "metadata": {},
     "output_type": "display_data"
    },
    {
     "data": {
      "text/markdown": [
       "<span style=\"color:#3366cc\">Hint:</span> Use `pd.read_csv`, and follow it with **three** pieces of text that are enclosed in parentheses and separated by commas.  (1) The filepath for the dataset is provided in `museum_filepath`.  (2) Use the `\"Date\"` column to label the rows. (3) Make sure that the row labels are recognized as dates."
      ],
      "text/plain": [
       "Hint: Use `pd.read_csv`, and follow it with **three** pieces of text that are enclosed in parentheses and separated by commas.  (1) The filepath for the dataset is provided in `museum_filepath`.  (2) Use the `\"Date\"` column to label the rows. (3) Make sure that the row labels are recognized as dates."
      ]
     },
     "metadata": {},
     "output_type": "display_data"
    },
    {
     "data": {
      "application/javascript": [
       "parent.postMessage({\"jupyterEvent\": \"custom.exercise_interaction\", \"data\": {\"interactionType\": 3, \"questionType\": 1, \"questionId\": \"1_LoadMuseumData\", \"learnToolsVersion\": \"0.3.4\", \"valueTowardsCompletion\": 0.0, \"failureMessage\": \"\", \"exceptionClass\": \"\", \"trace\": \"\", \"outcomeType\": 4}}, \"*\")"
      ],
      "text/plain": [
       "<IPython.core.display.Javascript object>"
      ]
     },
     "metadata": {},
     "output_type": "display_data"
    },
    {
     "data": {
      "text/markdown": [
       "<span style=\"color:#33cc99\">Solution:</span> \n",
       "```python\n",
       "museum_data = pd.read_csv(museum_filepath, index_col=\"Date\", parse_dates=True)\n",
       "```"
      ],
      "text/plain": [
       "Solution: \n",
       "```python\n",
       "museum_data = pd.read_csv(museum_filepath, index_col=\"Date\", parse_dates=True)\n",
       "```"
      ]
     },
     "metadata": {},
     "output_type": "display_data"
    }
   ],
   "source": [
    "# Uncomment the line below to receive a hint\n",
    "step_1.hint()\n",
    "# Uncomment the line below to see the solution\n",
    "step_1.solution()"
   ]
  },
  {
   "cell_type": "markdown",
   "id": "8a4f70f3",
   "metadata": {
    "papermill": {
     "duration": 0.007319,
     "end_time": "2022-09-15T11:07:06.168469",
     "exception": false,
     "start_time": "2022-09-15T11:07:06.161150",
     "status": "completed"
    },
    "tags": []
   },
   "source": [
    "## Step 2: Review the data\n",
    "\n",
    "Use a Python command to print the last 5 rows of the data."
   ]
  },
  {
   "cell_type": "code",
   "execution_count": 5,
   "id": "49cc0052",
   "metadata": {
    "execution": {
     "iopub.execute_input": "2022-09-15T11:07:06.184137Z",
     "iopub.status.busy": "2022-09-15T11:07:06.183756Z",
     "iopub.status.idle": "2022-09-15T11:07:06.197810Z",
     "shell.execute_reply": "2022-09-15T11:07:06.196636Z"
    },
    "papermill": {
     "duration": 0.024159,
     "end_time": "2022-09-15T11:07:06.200185",
     "exception": false,
     "start_time": "2022-09-15T11:07:06.176026",
     "status": "completed"
    },
    "tags": []
   },
   "outputs": [
    {
     "data": {
      "text/html": [
       "<div>\n",
       "<style scoped>\n",
       "    .dataframe tbody tr th:only-of-type {\n",
       "        vertical-align: middle;\n",
       "    }\n",
       "\n",
       "    .dataframe tbody tr th {\n",
       "        vertical-align: top;\n",
       "    }\n",
       "\n",
       "    .dataframe thead th {\n",
       "        text-align: right;\n",
       "    }\n",
       "</style>\n",
       "<table border=\"1\" class=\"dataframe\">\n",
       "  <thead>\n",
       "    <tr style=\"text-align: right;\">\n",
       "      <th></th>\n",
       "      <th>Avila Adobe</th>\n",
       "      <th>Firehouse Museum</th>\n",
       "      <th>Chinese American Museum</th>\n",
       "      <th>America Tropical Interpretive Center</th>\n",
       "    </tr>\n",
       "    <tr>\n",
       "      <th>Date</th>\n",
       "      <th></th>\n",
       "      <th></th>\n",
       "      <th></th>\n",
       "      <th></th>\n",
       "    </tr>\n",
       "  </thead>\n",
       "  <tbody>\n",
       "    <tr>\n",
       "      <th>2018-07-01</th>\n",
       "      <td>23136</td>\n",
       "      <td>4191</td>\n",
       "      <td>2620</td>\n",
       "      <td>4718</td>\n",
       "    </tr>\n",
       "    <tr>\n",
       "      <th>2018-08-01</th>\n",
       "      <td>20815</td>\n",
       "      <td>4866</td>\n",
       "      <td>2409</td>\n",
       "      <td>3891</td>\n",
       "    </tr>\n",
       "    <tr>\n",
       "      <th>2018-09-01</th>\n",
       "      <td>21020</td>\n",
       "      <td>4956</td>\n",
       "      <td>2146</td>\n",
       "      <td>3180</td>\n",
       "    </tr>\n",
       "    <tr>\n",
       "      <th>2018-10-01</th>\n",
       "      <td>19280</td>\n",
       "      <td>4622</td>\n",
       "      <td>2364</td>\n",
       "      <td>3775</td>\n",
       "    </tr>\n",
       "    <tr>\n",
       "      <th>2018-11-01</th>\n",
       "      <td>17163</td>\n",
       "      <td>4082</td>\n",
       "      <td>2385</td>\n",
       "      <td>4562</td>\n",
       "    </tr>\n",
       "  </tbody>\n",
       "</table>\n",
       "</div>"
      ],
      "text/plain": [
       "            Avila Adobe  Firehouse Museum  Chinese American Museum  \\\n",
       "Date                                                                 \n",
       "2018-07-01        23136              4191                     2620   \n",
       "2018-08-01        20815              4866                     2409   \n",
       "2018-09-01        21020              4956                     2146   \n",
       "2018-10-01        19280              4622                     2364   \n",
       "2018-11-01        17163              4082                     2385   \n",
       "\n",
       "            America Tropical Interpretive Center  \n",
       "Date                                              \n",
       "2018-07-01                                  4718  \n",
       "2018-08-01                                  3891  \n",
       "2018-09-01                                  3180  \n",
       "2018-10-01                                  3775  \n",
       "2018-11-01                                  4562  "
      ]
     },
     "execution_count": 5,
     "metadata": {},
     "output_type": "execute_result"
    }
   ],
   "source": [
    "# Print the last five rows of the data \n",
    "museum_data.tail() # Your code here"
   ]
  },
  {
   "cell_type": "markdown",
   "id": "7db0d5cd",
   "metadata": {
    "papermill": {
     "duration": 0.006284,
     "end_time": "2022-09-15T11:07:06.213179",
     "exception": false,
     "start_time": "2022-09-15T11:07:06.206895",
     "status": "completed"
    },
    "tags": []
   },
   "source": [
    "The last row (for `2018-11-01`) tracks the number of visitors to each museum in November 2018, the next-to-last row (for `2018-10-01`) tracks the number of visitors to each museum in October 2018, _and so on_.\n",
    "\n",
    "Use the last 5 rows of the data to answer the questions below."
   ]
  },
  {
   "cell_type": "code",
   "execution_count": 6,
   "id": "13910ec3",
   "metadata": {
    "execution": {
     "iopub.execute_input": "2022-09-15T11:07:06.228750Z",
     "iopub.status.busy": "2022-09-15T11:07:06.227964Z",
     "iopub.status.idle": "2022-09-15T11:07:06.245561Z",
     "shell.execute_reply": "2022-09-15T11:07:06.244401Z"
    },
    "papermill": {
     "duration": 0.028009,
     "end_time": "2022-09-15T11:07:06.247736",
     "exception": false,
     "start_time": "2022-09-15T11:07:06.219727",
     "status": "completed"
    },
    "tags": []
   },
   "outputs": [
    {
     "name": "stdout",
     "output_type": "stream",
     "text": [
      "Date\n",
      "2018-07-01    2620\n",
      "Name: Chinese American Museum, dtype: int64\n",
      "\n",
      "\n",
      "Date\n",
      "2018-10-01    14658\n",
      "dtype: int64\n"
     ]
    },
    {
     "data": {
      "application/javascript": [
       "parent.postMessage({\"jupyterEvent\": \"custom.exercise_interaction\", \"data\": {\"outcomeType\": 1, \"valueTowardsCompletion\": 0.3333333333333333, \"interactionType\": 1, \"questionType\": 1, \"questionId\": \"2_ReviewData\", \"learnToolsVersion\": \"0.3.4\", \"failureMessage\": \"\", \"exceptionClass\": \"\", \"trace\": \"\"}}, \"*\")"
      ],
      "text/plain": [
       "<IPython.core.display.Javascript object>"
      ]
     },
     "metadata": {},
     "output_type": "display_data"
    },
    {
     "data": {
      "text/markdown": [
       "<span style=\"color:#33cc33\">Correct</span>"
      ],
      "text/plain": [
       "Correct"
      ]
     },
     "metadata": {},
     "output_type": "display_data"
    }
   ],
   "source": [
    "# Fill in the line below: How many visitors did the Chinese American Museum \n",
    "# receive in July 2018?\n",
    "ca_museum_jul18 = museum_data.iloc[museum_data.index=='2018-07-01']['Chinese American Museum']\n",
    "print(ca_museum_jul18)\n",
    "ca_museum_jul18 = 2620\n",
    "\n",
    "print('\\n')\n",
    "# Fill in the line below: In October 2018, how many more visitors did Avila \n",
    "# Adobe receive than the Firehouse Museum?\n",
    "avila_oct18 = museum_data.iloc[museum_data.index=='2018-10-01']['Avila Adobe'] - museum_data.iloc[museum_data.index=='2018-10-01']['Firehouse Museum']\n",
    "print(avila_oct18)\n",
    "avila_oct18 = 14658\n",
    "\n",
    "# Check your answers\n",
    "step_2.check()"
   ]
  },
  {
   "cell_type": "code",
   "execution_count": 7,
   "id": "754da46b",
   "metadata": {
    "execution": {
     "iopub.execute_input": "2022-09-15T11:07:06.263354Z",
     "iopub.status.busy": "2022-09-15T11:07:06.262611Z",
     "iopub.status.idle": "2022-09-15T11:07:06.273481Z",
     "shell.execute_reply": "2022-09-15T11:07:06.272657Z"
    },
    "papermill": {
     "duration": 0.020987,
     "end_time": "2022-09-15T11:07:06.275471",
     "exception": false,
     "start_time": "2022-09-15T11:07:06.254484",
     "status": "completed"
    },
    "tags": []
   },
   "outputs": [
    {
     "data": {
      "application/javascript": [
       "parent.postMessage({\"jupyterEvent\": \"custom.exercise_interaction\", \"data\": {\"interactionType\": 2, \"questionType\": 1, \"questionId\": \"2_ReviewData\", \"learnToolsVersion\": \"0.3.4\", \"valueTowardsCompletion\": 0.0, \"failureMessage\": \"\", \"exceptionClass\": \"\", \"trace\": \"\", \"outcomeType\": 4}}, \"*\")"
      ],
      "text/plain": [
       "<IPython.core.display.Javascript object>"
      ]
     },
     "metadata": {},
     "output_type": "display_data"
    },
    {
     "data": {
      "text/markdown": [
       "<span style=\"color:#3366cc\">Hint:</span> Use the `tail()` command that you learned about in the tutorial to print the last five rows. **After printing the last five rows**, the number of visitors in July 2018 for each museum can be found in the row marked `2018-07-01`, and the number of visitors in October 2018 for each museum can be found in the row marked `2018-10-01`."
      ],
      "text/plain": [
       "Hint: Use the `tail()` command that you learned about in the tutorial to print the last five rows. **After printing the last five rows**, the number of visitors in July 2018 for each museum can be found in the row marked `2018-07-01`, and the number of visitors in October 2018 for each museum can be found in the row marked `2018-10-01`."
      ]
     },
     "metadata": {},
     "output_type": "display_data"
    },
    {
     "data": {
      "application/javascript": [
       "parent.postMessage({\"jupyterEvent\": \"custom.exercise_interaction\", \"data\": {\"interactionType\": 3, \"questionType\": 1, \"questionId\": \"2_ReviewData\", \"learnToolsVersion\": \"0.3.4\", \"valueTowardsCompletion\": 0.0, \"failureMessage\": \"\", \"exceptionClass\": \"\", \"trace\": \"\", \"outcomeType\": 4}}, \"*\")"
      ],
      "text/plain": [
       "<IPython.core.display.Javascript object>"
      ]
     },
     "metadata": {},
     "output_type": "display_data"
    },
    {
     "data": {
      "text/markdown": [
       "<span style=\"color:#33cc99\">Solution:</span> \n",
       "```python\n",
       "# Print the last five rows of the data\n",
       "museum_data.tail()\n",
       "# How many visitors did the Chinese American Museum \n",
       "# receive in July 2018? \n",
       "ca_museum_jul18 = 2620\n",
       "# In October 2018, how many more visitors did Avila \n",
       "# Adobe receive than the Firehouse Museum?\n",
       "avila_oct18 = 14658\n",
       "\n",
       "```"
      ],
      "text/plain": [
       "Solution: \n",
       "```python\n",
       "# Print the last five rows of the data\n",
       "museum_data.tail()\n",
       "# How many visitors did the Chinese American Museum \n",
       "# receive in July 2018? \n",
       "ca_museum_jul18 = 2620\n",
       "# In October 2018, how many more visitors did Avila \n",
       "# Adobe receive than the Firehouse Museum?\n",
       "avila_oct18 = 14658\n",
       "\n",
       "```"
      ]
     },
     "metadata": {},
     "output_type": "display_data"
    }
   ],
   "source": [
    "# Lines below will give you a hint or solution code\n",
    "step_2.hint()\n",
    "step_2.solution()"
   ]
  },
  {
   "cell_type": "markdown",
   "id": "80f1ce52",
   "metadata": {
    "papermill": {
     "duration": 0.007795,
     "end_time": "2022-09-15T11:07:06.290601",
     "exception": false,
     "start_time": "2022-09-15T11:07:06.282806",
     "status": "completed"
    },
    "tags": []
   },
   "source": [
    "## Step 3: Convince the museum board \n",
    "\n",
    "The Firehouse Museum claims they ran an event in 2014 that brought an incredible number of visitors, and that they should get extra budget to run a similar event again.  The other museums think these types of events aren't that important, and budgets should be split purely based on recent visitors on an average day.  \n",
    "\n",
    "To show the museum board how the event compared to regular traffic at each museum, create a line chart that shows how the number of visitors to each museum evolved over time.  Your figure should have four lines (one for each museum).\n",
    "\n",
    "> **(Optional) Note**: If you have some prior experience with plotting figures in Python, you might be familiar with the `plt.show()` command.  If you decide to use this command, please place it **after** the line of code that checks your answer (in this case, place it after `step_3.check()` below) -- otherwise, the checking code will return an error!"
   ]
  },
  {
   "cell_type": "code",
   "execution_count": 8,
   "id": "17aa1f72",
   "metadata": {
    "execution": {
     "iopub.execute_input": "2022-09-15T11:07:06.307391Z",
     "iopub.status.busy": "2022-09-15T11:07:06.306336Z",
     "iopub.status.idle": "2022-09-15T11:07:06.707196Z",
     "shell.execute_reply": "2022-09-15T11:07:06.706353Z"
    },
    "papermill": {
     "duration": 0.41158,
     "end_time": "2022-09-15T11:07:06.709416",
     "exception": false,
     "start_time": "2022-09-15T11:07:06.297836",
     "status": "completed"
    },
    "tags": []
   },
   "outputs": [
    {
     "data": {
      "application/javascript": [
       "parent.postMessage({\"jupyterEvent\": \"custom.exercise_interaction\", \"data\": {\"outcomeType\": 1, \"valueTowardsCompletion\": 0.3333333333333333, \"interactionType\": 1, \"questionType\": 2, \"questionId\": \"3_PlotAll\", \"learnToolsVersion\": \"0.3.4\", \"failureMessage\": \"\", \"exceptionClass\": \"\", \"trace\": \"\"}}, \"*\")"
      ],
      "text/plain": [
       "<IPython.core.display.Javascript object>"
      ]
     },
     "metadata": {},
     "output_type": "display_data"
    },
    {
     "data": {
      "text/markdown": [
       "<span style=\"color:#33cc33\">Correct</span>"
      ],
      "text/plain": [
       "Correct"
      ]
     },
     "metadata": {},
     "output_type": "display_data"
    },
    {
     "data": {
      "image/png": "[encoded data removed]",
      "text/plain": [
       "<Figure size 432x288 with 1 Axes>"
      ]
     },
     "metadata": {
      "needs_background": "light"
     },
     "output_type": "display_data"
    }
   ],
   "source": [
    "# Line chart showing the number of visitors to each museum over time\n",
    "sns.lineplot(data=museum_data) # Your code here\n",
    "\n",
    "# Check your answer\n",
    "step_3.check()"
   ]
  },
  {
   "cell_type": "code",
   "execution_count": 9,
   "id": "e2bffadb",
   "metadata": {
    "execution": {
     "iopub.execute_input": "2022-09-15T11:07:06.730043Z",
     "iopub.status.busy": "2022-09-15T11:07:06.728889Z",
     "iopub.status.idle": "2022-09-15T11:07:07.127766Z",
     "shell.execute_reply": "2022-09-15T11:07:07.126454Z"
    },
    "papermill": {
     "duration": 0.411883,
     "end_time": "2022-09-15T11:07:07.130551",
     "exception": false,
     "start_time": "2022-09-15T11:07:06.718668",
     "status": "completed"
    },
    "tags": []
   },
   "outputs": [
    {
     "data": {
      "application/javascript": [
       "parent.postMessage({\"jupyterEvent\": \"custom.exercise_interaction\", \"data\": {\"interactionType\": 2, \"questionType\": 2, \"questionId\": \"3_PlotAll\", \"learnToolsVersion\": \"0.3.4\", \"valueTowardsCompletion\": 0.0, \"failureMessage\": \"\", \"exceptionClass\": \"\", \"trace\": \"\", \"outcomeType\": 4}}, \"*\")"
      ],
      "text/plain": [
       "<IPython.core.display.Javascript object>"
      ]
     },
     "metadata": {},
     "output_type": "display_data"
    },
    {
     "data": {
      "text/markdown": [
       "<span style=\"color:#3366cc\">Hint:</span> Use `sns.lineplot`, and plot one line for each museum in `museum_data`. (_You can do this in a single line of code!_)"
      ],
      "text/plain": [
       "Hint: Use `sns.lineplot`, and plot one line for each museum in `museum_data`. (_You can do this in a single line of code!_)"
      ]
     },
     "metadata": {},
     "output_type": "display_data"
    },
    {
     "data": {
      "application/javascript": [
       "parent.postMessage({\"jupyterEvent\": \"custom.exercise_interaction\", \"data\": {\"interactionType\": 3, \"questionType\": 2, \"questionId\": \"3_PlotAll\", \"learnToolsVersion\": \"0.3.4\", \"valueTowardsCompletion\": 0.0, \"failureMessage\": \"\", \"exceptionClass\": \"\", \"trace\": \"\", \"outcomeType\": 4}}, \"*\")"
      ],
      "text/plain": [
       "<IPython.core.display.Javascript object>"
      ]
     },
     "metadata": {},
     "output_type": "display_data"
    },
    {
     "data": {
      "text/markdown": [
       "<span style=\"color:#33cc99\">Solution:</span> \n",
       "```python\n",
       "# Set the width and height of the figure\n",
       "plt.figure(figsize=(12,6))\n",
       "# Line chart showing the number of visitors to each museum over time\n",
       "sns.lineplot(data=museum_data)\n",
       "# Add title\n",
       "plt.title(\"Monthly Visitors to Los Angeles City Museums\")\n",
       "\n",
       "```"
      ],
      "text/plain": [
       "Solution: \n",
       "```python\n",
       "# Set the width and height of the figure\n",
       "plt.figure(figsize=(12,6))\n",
       "# Line chart showing the number of visitors to each museum over time\n",
       "sns.lineplot(data=museum_data)\n",
       "# Add title\n",
       "plt.title(\"Monthly Visitors to Los Angeles City Museums\")\n",
       "\n",
       "```"
      ]
     },
     "metadata": {},
     "output_type": "display_data"
    },
    {
     "data": {
      "image/png": "[encoded data removed]",
      "text/plain": [
       "<Figure size 864x432 with 1 Axes>"
      ]
     },
     "metadata": {
      "needs_background": "light"
     },
     "output_type": "display_data"
    }
   ],
   "source": [
    "# Lines below will give you a hint or solution code\n",
    "step_3.hint()\n",
    "step_3.solution_plot()"
   ]
  },
  {
   "cell_type": "markdown",
   "id": "5996a54d",
   "metadata": {
    "papermill": {
     "duration": 0.009621,
     "end_time": "2022-09-15T11:07:07.150187",
     "exception": false,
     "start_time": "2022-09-15T11:07:07.140566",
     "status": "completed"
    },
    "tags": []
   },
   "source": [
    "## Step 4: Assess seasonality\n",
    "\n",
    "When meeting with the employees at Avila Adobe, you hear that one major pain point is that the number of museum visitors varies greatly with the seasons, with low seasons (when the employees are perfectly staffed and happy) and also high seasons (when the employees are understaffed and stressed).  You realize that if you can predict these high and low seasons, you can plan ahead to hire some additional seasonal employees to help out with the extra work.\n",
    "\n",
    "#### Part A\n",
    "Create a line chart that shows how the number of visitors to Avila Adobe has evolved over time.  (_If your code returns an error, the first thing that you should check is that you've spelled the name of the column correctly!  You must write the name of the column exactly as it appears in the dataset._)"
   ]
  },
  {
   "cell_type": "code",
   "execution_count": 10,
   "id": "a09b9ed4",
   "metadata": {
    "execution": {
     "iopub.execute_input": "2022-09-15T11:07:07.171717Z",
     "iopub.status.busy": "2022-09-15T11:07:07.171275Z",
     "iopub.status.idle": "2022-09-15T11:07:07.443806Z",
     "shell.execute_reply": "2022-09-15T11:07:07.442670Z"
    },
    "papermill": {
     "duration": 0.28608,
     "end_time": "2022-09-15T11:07:07.446152",
     "exception": false,
     "start_time": "2022-09-15T11:07:07.160072",
     "status": "completed"
    },
    "tags": []
   },
   "outputs": [
    {
     "name": "stdout",
     "output_type": "stream",
     "text": [
      "Thank you for creating a line chart!  To see how your code compares to the official solution, please use the code cell below.\n"
     ]
    },
    {
     "data": {
      "application/javascript": [
       "parent.postMessage({\"jupyterEvent\": \"custom.exercise_interaction\", \"data\": {\"outcomeType\": 1, \"valueTowardsCompletion\": 0.3333333333333333, \"interactionType\": 1, \"questionType\": 2, \"questionId\": \"4.1_PlotAvila\", \"learnToolsVersion\": \"0.3.4\", \"failureMessage\": \"\", \"exceptionClass\": \"\", \"trace\": \"\"}}, \"*\")"
      ],
      "text/plain": [
       "<IPython.core.display.Javascript object>"
      ]
     },
     "metadata": {},
     "output_type": "display_data"
    },
    {
     "data": {
      "text/markdown": [
       "<span style=\"color:#33cc33\">Correct</span>"
      ],
      "text/plain": [
       "Correct"
      ]
     },
     "metadata": {},
     "output_type": "display_data"
    },
    {
     "data": {
      "image/png": "[encoded data removed]",
      "text/plain": [
       "<Figure size 432x288 with 1 Axes>"
      ]
     },
     "metadata": {
      "needs_background": "light"
     },
     "output_type": "display_data"
    }
   ],
   "source": [
    "# Line plot showing the number of visitors to Avila Adobe over time\n",
    "sns.lineplot(data=museum_data['Avila Adobe'], label='Avila Adobe') # Your code here\n",
    "\n",
    "# Check your answer\n",
    "step_4.a.check()"
   ]
  },
  {
   "cell_type": "code",
   "execution_count": 11,
   "id": "f952fd52",
   "metadata": {
    "execution": {
     "iopub.execute_input": "2022-09-15T11:07:07.469240Z",
     "iopub.status.busy": "2022-09-15T11:07:07.468828Z",
     "iopub.status.idle": "2022-09-15T11:07:07.748141Z",
     "shell.execute_reply": "2022-09-15T11:07:07.746892Z"
    },
    "papermill": {
     "duration": 0.294556,
     "end_time": "2022-09-15T11:07:07.751434",
     "exception": false,
     "start_time": "2022-09-15T11:07:07.456878",
     "status": "completed"
    },
    "tags": []
   },
   "outputs": [
    {
     "data": {
      "application/javascript": [
       "parent.postMessage({\"jupyterEvent\": \"custom.exercise_interaction\", \"data\": {\"interactionType\": 2, \"questionType\": 2, \"questionId\": \"4.1_PlotAvila\", \"learnToolsVersion\": \"0.3.4\", \"valueTowardsCompletion\": 0.0, \"failureMessage\": \"\", \"exceptionClass\": \"\", \"trace\": \"\", \"outcomeType\": 4}}, \"*\")"
      ],
      "text/plain": [
       "<IPython.core.display.Javascript object>"
      ]
     },
     "metadata": {},
     "output_type": "display_data"
    },
    {
     "data": {
      "text/markdown": [
       "<span style=\"color:#3366cc\">Hint:</span> Use `sns.lineplot` to plot the `'Avila Adobe'` column in `museum_data`. (_If you like, use `label=` to add the line to the legend, but this is not necessary!_)"
      ],
      "text/plain": [
       "Hint: Use `sns.lineplot` to plot the `'Avila Adobe'` column in `museum_data`. (_If you like, use `label=` to add the line to the legend, but this is not necessary!_)"
      ]
     },
     "metadata": {},
     "output_type": "display_data"
    },
    {
     "data": {
      "application/javascript": [
       "parent.postMessage({\"jupyterEvent\": \"custom.exercise_interaction\", \"data\": {\"interactionType\": 3, \"questionType\": 2, \"questionId\": \"4.1_PlotAvila\", \"learnToolsVersion\": \"0.3.4\", \"valueTowardsCompletion\": 0.0, \"failureMessage\": \"\", \"exceptionClass\": \"\", \"trace\": \"\", \"outcomeType\": 4}}, \"*\")"
      ],
      "text/plain": [
       "<IPython.core.display.Javascript object>"
      ]
     },
     "metadata": {},
     "output_type": "display_data"
    },
    {
     "data": {
      "text/markdown": [
       "<span style=\"color:#33cc99\">Solution:</span> \n",
       "```python\n",
       "# Set the width and height of the figure\n",
       "plt.figure(figsize=(12,6))\n",
       "# Add title\n",
       "plt.title(\"Monthly Visitors to Avila Adobe\")\n",
       "# Line chart showing the number of visitors to Avila Adobe over time\n",
       "sns.lineplot(data=museum_data['Avila Adobe'])\n",
       "# Add label for horizontal axis\n",
       "plt.xlabel(\"Date\")\n",
       "\n",
       "```"
      ],
      "text/plain": [
       "Solution: \n",
       "```python\n",
       "# Set the width and height of the figure\n",
       "plt.figure(figsize=(12,6))\n",
       "# Add title\n",
       "plt.title(\"Monthly Visitors to Avila Adobe\")\n",
       "# Line chart showing the number of visitors to Avila Adobe over time\n",
       "sns.lineplot(data=museum_data['Avila Adobe'])\n",
       "# Add label for horizontal axis\n",
       "plt.xlabel(\"Date\")\n",
       "\n",
       "```"
      ]
     },
     "metadata": {},
     "output_type": "display_data"
    },
    {
     "data": {
      "image/png": "[encoded data removed]",
      "text/plain": [
       "<Figure size 864x432 with 1 Axes>"
      ]
     },
     "metadata": {
      "needs_background": "light"
     },
     "output_type": "display_data"
    }
   ],
   "source": [
    "# Lines below will give you a hint or solution code\n",
    "step_4.a.hint()\n",
    "step_4.a.solution_plot()"
   ]
  },
  {
   "cell_type": "markdown",
   "id": "5cb6af35",
   "metadata": {
    "papermill": {
     "duration": 0.017885,
     "end_time": "2022-09-15T11:07:07.782052",
     "exception": false,
     "start_time": "2022-09-15T11:07:07.764167",
     "status": "completed"
    },
    "tags": []
   },
   "source": [
    "#### Part B\n",
    "\n",
    "Does Avila Adobe get more visitors:\n",
    "- in September-February (in LA, the fall and winter months), or \n",
    "- in March-August (in LA, the spring and summer)?  \n",
    "\n",
    "Using this information, when should the museum staff additional seasonal employees?"
   ]
  },
  {
   "cell_type": "code",
   "execution_count": 12,
   "id": "dffdc5c2",
   "metadata": {
    "execution": {
     "iopub.execute_input": "2022-09-15T11:07:07.812034Z",
     "iopub.status.busy": "2022-09-15T11:07:07.811161Z",
     "iopub.status.idle": "2022-09-15T11:07:07.822114Z",
     "shell.execute_reply": "2022-09-15T11:07:07.821263Z"
    },
    "papermill": {
     "duration": 0.028055,
     "end_time": "2022-09-15T11:07:07.824821",
     "exception": false,
     "start_time": "2022-09-15T11:07:07.796766",
     "status": "completed"
    },
    "tags": []
   },
   "outputs": [
    {
     "data": {
      "application/javascript": [
       "parent.postMessage({\"jupyterEvent\": \"custom.exercise_interaction\", \"data\": {\"interactionType\": 2, \"questionType\": 4, \"questionId\": \"4.2_ThinkAvila\", \"learnToolsVersion\": \"0.3.4\", \"valueTowardsCompletion\": 0.0, \"failureMessage\": \"\", \"exceptionClass\": \"\", \"trace\": \"\", \"outcomeType\": 4}}, \"*\")"
      ],
      "text/plain": [
       "<IPython.core.display.Javascript object>"
      ]
     },
     "metadata": {},
     "output_type": "display_data"
    },
    {
     "data": {
      "text/markdown": [
       "<span style=\"color:#3366cc\">Hint:</span> Look at the early part of each year (around January).  Does the line chart dip to low values or reach relatively high values?"
      ],
      "text/plain": [
       "Hint: Look at the early part of each year (around January).  Does the line chart dip to low values or reach relatively high values?"
      ]
     },
     "metadata": {},
     "output_type": "display_data"
    }
   ],
   "source": [
    "step_4.b.hint()"
   ]
  },
  {
   "cell_type": "code",
   "execution_count": 13,
   "id": "3f8c2573",
   "metadata": {
    "execution": {
     "iopub.execute_input": "2022-09-15T11:07:07.856829Z",
     "iopub.status.busy": "2022-09-15T11:07:07.856382Z",
     "iopub.status.idle": "2022-09-15T11:07:07.864262Z",
     "shell.execute_reply": "2022-09-15T11:07:07.863468Z"
    },
    "papermill": {
     "duration": 0.024932,
     "end_time": "2022-09-15T11:07:07.866562",
     "exception": false,
     "start_time": "2022-09-15T11:07:07.841630",
     "status": "completed"
    },
    "tags": []
   },
   "outputs": [
    {
     "data": {
      "application/javascript": [
       "parent.postMessage({\"jupyterEvent\": \"custom.exercise_interaction\", \"data\": {\"interactionType\": 3, \"questionType\": 4, \"questionId\": \"4.2_ThinkAvila\", \"learnToolsVersion\": \"0.3.4\", \"valueTowardsCompletion\": 0.0, \"failureMessage\": \"\", \"exceptionClass\": \"\", \"trace\": \"\", \"outcomeType\": 4}}, \"*\")"
      ],
      "text/plain": [
       "<IPython.core.display.Javascript object>"
      ]
     },
     "metadata": {},
     "output_type": "display_data"
    },
    {
     "data": {
      "text/markdown": [
       "<span style=\"color:#33cc99\">Solution:</span> The line chart generally dips to relatively low values around the early part of each year (in December and January), and reaches its highest values in the middle of the year (especially around May and June).  Thus, Avila Adobe usually gets more visitors in March-August (or the spring and summer months).  With this in mind, Avila Adobe could definitely benefit from hiring more seasonal employees to help with the extra work in March-August (the spring and summer)!"
      ],
      "text/plain": [
       "Solution: The line chart generally dips to relatively low values around the early part of each year (in December and January), and reaches its highest values in the middle of the year (especially around May and June).  Thus, Avila Adobe usually gets more visitors in March-August (or the spring and summer months).  With this in mind, Avila Adobe could definitely benefit from hiring more seasonal employees to help with the extra work in March-August (the spring and summer)!"
      ]
     },
     "metadata": {},
     "output_type": "display_data"
    }
   ],
   "source": [
    "# Check your answer (Run this code cell to receive credit!)\n",
    "step_4.b.solution()"
   ]
  },
  {
   "cell_type": "markdown",
   "id": "7e5ba462",
   "metadata": {
    "papermill": {
     "duration": 0.012162,
     "end_time": "2022-09-15T11:07:07.891289",
     "exception": false,
     "start_time": "2022-09-15T11:07:07.879127",
     "status": "completed"
    },
    "tags": []
   },
   "source": [
    "# Keep going\n",
    "\n",
    "Move on to learn about **[bar charts and heatmaps](https://www.kaggle.com/alexisbcook/bar-charts-and-heatmaps)** with a new dataset!"
   ]
  },
  {
   "cell_type": "markdown",
   "id": "97ab7720",
   "metadata": {
    "papermill": {
     "duration": 0.012086,
     "end_time": "2022-09-15T11:07:07.915892",
     "exception": false,
     "start_time": "2022-09-15T11:07:07.903806",
     "status": "completed"
    },
    "tags": []
   },
   "source": [
    "---\n",
    "\n",
    "\n",
    "\n",
    "\n",
    "*Have questions or comments? Visit the [course discussion forum](https://www.kaggle.com/learn/data-visualization/discussion) to chat with other learners.*"
   ]
  }
 ],
 "metadata": {
  "kernelspec": {
   "display_name": "Python 3",
   "language": "python",
   "name": "python3"
  },
  "language_info": {
   "codemirror_mode": {
    "name": "ipython",
    "version": 3
   },
   "file_extension": ".py",
   "mimetype": "text/x-python",
   "name": "python",
   "nbconvert_exporter": "python",
   "pygments_lexer": "ipython3",
   "version": "3.7.12"
  },
  "papermill": {
   "default_parameters": {},
   "duration": 12.613202,
   "end_time": "2022-09-15T11:07:08.649441",
   "environment_variables": {},
   "exception": null,
   "input_path": "__notebook__.ipynb",
   "output_path": "__notebook__.ipynb",
   "parameters": {},
   "start_time": "2022-09-15T11:06:56.036239",
   "version": "2.3.4"
  }
 },
 "nbformat": 4,
 "nbformat_minor": 5
}
