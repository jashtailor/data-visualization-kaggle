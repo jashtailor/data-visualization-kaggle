{
 "cells": [
  {
   "cell_type": "markdown",
   "id": "a0c1717e",
   "metadata": {
    "papermill": {
     "duration": 0.004026,
     "end_time": "2022-11-26T11:01:43.259706",
     "exception": false,
     "start_time": "2022-11-26T11:01:43.255680",
     "status": "completed"
    },
    "tags": []
   },
   "source": [
    "**This notebook is an exercise in the [Data Visualization](https://www.kaggle.com/learn/data-visualization) course.  You can reference the tutorial at [this link](https://www.kaggle.com/alexisbcook/final-project).**\n",
    "\n",
    "---\n"
   ]
  },
  {
   "cell_type": "markdown",
   "id": "e0fb8598",
   "metadata": {
    "papermill": {
     "duration": 0.003044,
     "end_time": "2022-11-26T11:01:43.266076",
     "exception": false,
     "start_time": "2022-11-26T11:01:43.263032",
     "status": "completed"
    },
    "tags": []
   },
   "source": [
    "Now it's time for you to demonstrate your new skills with a project of your own!\n",
    "\n",
    "In this exercise, you will work with a dataset of your choosing.  Once you've selected a dataset, you'll design and create your own plot to tell interesting stories behind the data!\n",
    "\n",
    "## Setup\n",
    "\n",
    "Run the next cell to import and configure the Python libraries that you need to complete the exercise."
   ]
  },
  {
   "cell_type": "code",
   "execution_count": 1,
   "id": "c1ce398d",
   "metadata": {
    "execution": {
     "iopub.execute_input": "2022-11-26T11:01:43.275099Z",
     "iopub.status.busy": "2022-11-26T11:01:43.274386Z",
     "iopub.status.idle": "2022-11-26T11:01:44.490464Z",
     "shell.execute_reply": "2022-11-26T11:01:44.489509Z"
    },
    "papermill": {
     "duration": 1.223445,
     "end_time": "2022-11-26T11:01:44.493080",
     "exception": false,
     "start_time": "2022-11-26T11:01:43.269635",
     "status": "completed"
    },
    "tags": []
   },
   "outputs": [
    {
     "name": "stdout",
     "output_type": "stream",
     "text": [
      "Setup Complete\n"
     ]
    }
   ],
   "source": [
    "import pandas as pd\n",
    "pd.plotting.register_matplotlib_converters()\n",
    "import matplotlib.pyplot as plt\n",
    "%matplotlib inline\n",
    "import seaborn as sns\n",
    "print(\"Setup Complete\")"
   ]
  },
  {
   "cell_type": "markdown",
   "id": "71e3c13b",
   "metadata": {
    "papermill": {
     "duration": 0.003526,
     "end_time": "2022-11-26T11:01:44.500954",
     "exception": false,
     "start_time": "2022-11-26T11:01:44.497428",
     "status": "completed"
    },
    "tags": []
   },
   "source": [
    "The questions below will give you feedback on your work. Run the following cell to set up the feedback system."
   ]
  },
  {
   "cell_type": "code",
   "execution_count": 2,
   "id": "d770aad7",
   "metadata": {
    "execution": {
     "iopub.execute_input": "2022-11-26T11:01:44.509548Z",
     "iopub.status.busy": "2022-11-26T11:01:44.509238Z",
     "iopub.status.idle": "2022-11-26T11:01:44.565434Z",
     "shell.execute_reply": "2022-11-26T11:01:44.563260Z"
    },
    "papermill": {
     "duration": 0.064193,
     "end_time": "2022-11-26T11:01:44.568773",
     "exception": false,
     "start_time": "2022-11-26T11:01:44.504580",
     "status": "completed"
    },
    "tags": []
   },
   "outputs": [
    {
     "name": "stdout",
     "output_type": "stream",
     "text": [
      "Setup Complete\n"
     ]
    }
   ],
   "source": [
    "# Set up code checking\n",
    "from learntools.core import binder\n",
    "binder.bind(globals())\n",
    "from learntools.data_viz_to_coder.ex7 import *\n",
    "print(\"Setup Complete\")"
   ]
  },
  {
   "cell_type": "markdown",
   "id": "f79f584d",
   "metadata": {
    "papermill": {
     "duration": 0.003557,
     "end_time": "2022-11-26T11:01:44.576400",
     "exception": false,
     "start_time": "2022-11-26T11:01:44.572843",
     "status": "completed"
    },
    "tags": []
   },
   "source": [
    "## Step 1: Attach a dataset to the notebook\n",
    "\n",
    "Begin by selecting a CSV dataset from [Kaggle Datasets](https://www.kaggle.com/datasets).  If you're unsure how to do this, please revisit the instructions in the previous tutorial.\n",
    "\n",
    "Once you have selected a dataset, click on the **[+ Add data]** option in the top right corner.  This will generate a pop-up window that you can use to search for your chosen dataset.  \n",
    "\n",
    "![ex6_search_dataset](https://i.imgur.com/cIIWPUS.png)\n",
    "\n",
    "Once you have found the dataset, click on the **[Add]** button to attach it to the notebook.  You can check that it was successful by looking at the **Data** dropdown menu to the right of the notebook -- look for an **input** folder containing a subfolder that matches the name of the dataset.\n",
    "\n",
    "<center>\n",
    "<img src=\"https://i.imgur.com/nMYc1Nu.png\" width=30%><br/>\n",
    "</center>\n",
    "\n",
    "You can click on the carat to the left of the name of the dataset to double-check that it contains a CSV file.  For instance, the image below shows that the example dataset contains two CSV files: (1) **dc-wikia-data.csv**, and (2) **marvel-wikia-data.csv**.\n",
    "\n",
    "<center>\n",
    "<img src=\"https://i.imgur.com/B4sJkVA.png\" width=30%><br/>\n",
    "</center>\n",
    "\n",
    "Once you've uploaded a dataset with a CSV file, run the code cell below **without changes** to receive credit for your work!"
   ]
  },
  {
   "cell_type": "code",
   "execution_count": 3,
   "id": "569afa86",
   "metadata": {
    "execution": {
     "iopub.execute_input": "2022-11-26T11:01:44.585488Z",
     "iopub.status.busy": "2022-11-26T11:01:44.585159Z",
     "iopub.status.idle": "2022-11-26T11:01:44.601364Z",
     "shell.execute_reply": "2022-11-26T11:01:44.599878Z"
    },
    "papermill": {
     "duration": 0.023587,
     "end_time": "2022-11-26T11:01:44.603710",
     "exception": false,
     "start_time": "2022-11-26T11:01:44.580123",
     "status": "completed"
    },
    "tags": []
   },
   "outputs": [
    {
     "data": {
      "application/javascript": [
       "parent.postMessage({\"jupyterEvent\": \"custom.exercise_interaction\", \"data\": {\"outcomeType\": 1, \"valueTowardsCompletion\": 0.25, \"interactionType\": 1, \"questionType\": 2, \"questionId\": \"1_AttachData\", \"learnToolsVersion\": \"0.3.4\", \"failureMessage\": \"\", \"exceptionClass\": \"\", \"trace\": \"\"}}, \"*\")"
      ],
      "text/plain": [
       "<IPython.core.display.Javascript object>"
      ]
     },
     "metadata": {},
     "output_type": "display_data"
    },
    {
     "data": {
      "text/markdown": [
       "<span style=\"color:#33cc33\">Correct:</span> \n",
       "\n"
      ],
      "text/plain": [
       "Correct: \n"
      ]
     },
     "metadata": {},
     "output_type": "display_data"
    }
   ],
   "source": [
    "# Check for a dataset with a CSV file\n",
    "step_1.check()"
   ]
  },
  {
   "cell_type": "markdown",
   "id": "7d1be905",
   "metadata": {
    "papermill": {
     "duration": 0.003438,
     "end_time": "2022-11-26T11:01:44.611250",
     "exception": false,
     "start_time": "2022-11-26T11:01:44.607812",
     "status": "completed"
    },
    "tags": []
   },
   "source": [
    "## Step 2: Specify the filepath\n",
    "\n",
    "Now that the dataset is attached to the notebook, you can find its filepath.  To do this, begin by clicking on the CSV file you'd like to use.  This will open the CSV file in a tab below the notebook.  You can find the filepath towards the top of this new tab.  \n",
    "\n",
    "![ex6_filepath](https://i.imgur.com/fgXQV47.png)\n",
    "\n",
    "After you find the filepath corresponding to your dataset, fill it in as the value for `my_filepath` in the code cell below, and run the code cell to check that you've provided a valid filepath.  For instance, in the case of this example dataset, we would set\n",
    "```\n",
    "my_filepath = \"../input/fivethirtyeight-comic-characters-dataset/dc-wikia-data.csv\"\n",
    "```  \n",
    "Note that **you must enclose the filepath in quotation marks**; otherwise, the code will return an error.\n",
    "\n",
    "Once you've entered the filepath, you can close the tab below the notebook by clicking on the **[X]** at the top of the tab."
   ]
  },
  {
   "cell_type": "code",
   "execution_count": 4,
   "id": "ac24af5d",
   "metadata": {
    "execution": {
     "iopub.execute_input": "2022-11-26T11:01:44.620093Z",
     "iopub.status.busy": "2022-11-26T11:01:44.619729Z",
     "iopub.status.idle": "2022-11-26T11:01:44.630165Z",
     "shell.execute_reply": "2022-11-26T11:01:44.629145Z"
    },
    "papermill": {
     "duration": 0.016959,
     "end_time": "2022-11-26T11:01:44.631838",
     "exception": false,
     "start_time": "2022-11-26T11:01:44.614879",
     "status": "completed"
    },
    "tags": []
   },
   "outputs": [
    {
     "data": {
      "application/javascript": [
       "parent.postMessage({\"jupyterEvent\": \"custom.exercise_interaction\", \"data\": {\"outcomeType\": 1, \"valueTowardsCompletion\": 0.25, \"interactionType\": 1, \"questionType\": 2, \"questionId\": \"2_Filepath\", \"learnToolsVersion\": \"0.3.4\", \"failureMessage\": \"\", \"exceptionClass\": \"\", \"trace\": \"\"}}, \"*\")"
      ],
      "text/plain": [
       "<IPython.core.display.Javascript object>"
      ]
     },
     "metadata": {},
     "output_type": "display_data"
    },
    {
     "data": {
      "text/markdown": [
       "<span style=\"color:#33cc33\">Correct:</span> \n",
       "\n"
      ],
      "text/plain": [
       "Correct: \n"
      ]
     },
     "metadata": {},
     "output_type": "display_data"
    }
   ],
   "source": [
    "# Fill in the line below: Specify the path of the CSV file to read\n",
    "my_filepath = \"/kaggle/input/tech-layoffs-of-2022/Tech_Layoffs_of_2022.csv\"\n",
    "\n",
    "# Check for a valid filepath to a CSV file in a dataset\n",
    "step_2.check()"
   ]
  },
  {
   "cell_type": "markdown",
   "id": "a40dfa65",
   "metadata": {
    "papermill": {
     "duration": 0.003415,
     "end_time": "2022-11-26T11:01:44.639188",
     "exception": false,
     "start_time": "2022-11-26T11:01:44.635773",
     "status": "completed"
    },
    "tags": []
   },
   "source": [
    "## Step 3: Load the data\n",
    "\n",
    "Use the next code cell to load your data file into `my_data`.  Use the filepath that you specified in the previous step."
   ]
  },
  {
   "cell_type": "code",
   "execution_count": 5,
   "id": "eb8228c5",
   "metadata": {
    "execution": {
     "iopub.execute_input": "2022-11-26T11:01:44.648053Z",
     "iopub.status.busy": "2022-11-26T11:01:44.647744Z",
     "iopub.status.idle": "2022-11-26T11:01:44.671341Z",
     "shell.execute_reply": "2022-11-26T11:01:44.670149Z"
    },
    "papermill": {
     "duration": 0.030165,
     "end_time": "2022-11-26T11:01:44.673007",
     "exception": false,
     "start_time": "2022-11-26T11:01:44.642842",
     "status": "completed"
    },
    "tags": []
   },
   "outputs": [
    {
     "data": {
      "application/javascript": [
       "parent.postMessage({\"jupyterEvent\": \"custom.exercise_interaction\", \"data\": {\"outcomeType\": 1, \"valueTowardsCompletion\": 0.25, \"interactionType\": 1, \"questionType\": 2, \"questionId\": \"3_LoadData\", \"learnToolsVersion\": \"0.3.4\", \"failureMessage\": \"\", \"exceptionClass\": \"\", \"trace\": \"\"}}, \"*\")"
      ],
      "text/plain": [
       "<IPython.core.display.Javascript object>"
      ]
     },
     "metadata": {},
     "output_type": "display_data"
    },
    {
     "data": {
      "text/markdown": [
       "<span style=\"color:#33cc33\">Correct:</span> \n",
       "\n"
      ],
      "text/plain": [
       "Correct: \n"
      ]
     },
     "metadata": {},
     "output_type": "display_data"
    }
   ],
   "source": [
    "# Fill in the line below: Read the file into a variable my_data\n",
    "my_data = pd.read_csv(my_filepath)\n",
    "\n",
    "# Check that a dataset has been uploaded into my_data\n",
    "step_3.check()"
   ]
  },
  {
   "cell_type": "markdown",
   "id": "d8b1b59f",
   "metadata": {
    "papermill": {
     "duration": 0.003933,
     "end_time": "2022-11-26T11:01:44.681055",
     "exception": false,
     "start_time": "2022-11-26T11:01:44.677122",
     "status": "completed"
    },
    "tags": []
   },
   "source": [
    "**_After the code cell above is marked correct_**, run the code cell below without changes to view the first five rows of the data."
   ]
  },
  {
   "cell_type": "code",
   "execution_count": 6,
   "id": "4513488b",
   "metadata": {
    "execution": {
     "iopub.execute_input": "2022-11-26T11:01:44.691047Z",
     "iopub.status.busy": "2022-11-26T11:01:44.690678Z",
     "iopub.status.idle": "2022-11-26T11:01:44.711426Z",
     "shell.execute_reply": "2022-11-26T11:01:44.710273Z"
    },
    "papermill": {
     "duration": 0.028099,
     "end_time": "2022-11-26T11:01:44.713251",
     "exception": false,
     "start_time": "2022-11-26T11:01:44.685152",
     "status": "completed"
    },
    "tags": []
   },
   "outputs": [
    {
     "data": {
      "text/html": [
       "<div>\n",
       "<style scoped>\n",
       "    .dataframe tbody tr th:only-of-type {\n",
       "        vertical-align: middle;\n",
       "    }\n",
       "\n",
       "    .dataframe tbody tr th {\n",
       "        vertical-align: top;\n",
       "    }\n",
       "\n",
       "    .dataframe thead th {\n",
       "        text-align: right;\n",
       "    }\n",
       "</style>\n",
       "<table border=\"1\" class=\"dataframe\">\n",
       "  <thead>\n",
       "    <tr style=\"text-align: right;\">\n",
       "      <th></th>\n",
       "      <th>Unnamed: 0</th>\n",
       "      <th>Company</th>\n",
       "      <th>Founded</th>\n",
       "      <th>Layoff</th>\n",
       "      <th>Month</th>\n",
       "      <th>Year</th>\n",
       "    </tr>\n",
       "  </thead>\n",
       "  <tbody>\n",
       "    <tr>\n",
       "      <th>0</th>\n",
       "      <td>0</td>\n",
       "      <td>Microsoft</td>\n",
       "      <td>1975</td>\n",
       "      <td>1000</td>\n",
       "      <td>October</td>\n",
       "      <td>2022</td>\n",
       "    </tr>\n",
       "    <tr>\n",
       "      <th>1</th>\n",
       "      <td>1</td>\n",
       "      <td>Twitter</td>\n",
       "      <td>2006</td>\n",
       "      <td>3700</td>\n",
       "      <td>November</td>\n",
       "      <td>2022</td>\n",
       "    </tr>\n",
       "    <tr>\n",
       "      <th>2</th>\n",
       "      <td>2</td>\n",
       "      <td>Meta</td>\n",
       "      <td>2004</td>\n",
       "      <td>11000</td>\n",
       "      <td>November</td>\n",
       "      <td>2022</td>\n",
       "    </tr>\n",
       "    <tr>\n",
       "      <th>3</th>\n",
       "      <td>3</td>\n",
       "      <td>Netflix</td>\n",
       "      <td>1997</td>\n",
       "      <td>300</td>\n",
       "      <td>June</td>\n",
       "      <td>2022</td>\n",
       "    </tr>\n",
       "    <tr>\n",
       "      <th>4</th>\n",
       "      <td>4</td>\n",
       "      <td>Udaan</td>\n",
       "      <td>2016</td>\n",
       "      <td>350</td>\n",
       "      <td>November</td>\n",
       "      <td>2022</td>\n",
       "    </tr>\n",
       "  </tbody>\n",
       "</table>\n",
       "</div>"
      ],
      "text/plain": [
       "   Unnamed: 0    Company  Founded  Layoff     Month  Year\n",
       "0           0  Microsoft     1975    1000   October  2022\n",
       "1           1    Twitter     2006    3700  November  2022\n",
       "2           2       Meta     2004   11000  November  2022\n",
       "3           3    Netflix     1997     300      June  2022\n",
       "4           4      Udaan     2016     350  November  2022"
      ]
     },
     "execution_count": 6,
     "metadata": {},
     "output_type": "execute_result"
    }
   ],
   "source": [
    "# Print the first five rows of the data\n",
    "my_data.head()"
   ]
  },
  {
   "cell_type": "markdown",
   "id": "bb1eb6a3",
   "metadata": {
    "papermill": {
     "duration": 0.004137,
     "end_time": "2022-11-26T11:01:44.721955",
     "exception": false,
     "start_time": "2022-11-26T11:01:44.717818",
     "status": "completed"
    },
    "tags": []
   },
   "source": [
    "## Step 4: Visualize the data\n",
    "\n",
    "Use the next code cell to create a figure that tells a story behind your dataset.  You can use any chart type (_line chart, bar chart, heatmap, etc_) of your choosing!"
   ]
  },
  {
   "cell_type": "code",
   "execution_count": 7,
   "id": "8d3cc147",
   "metadata": {
    "execution": {
     "iopub.execute_input": "2022-11-26T11:01:44.732603Z",
     "iopub.status.busy": "2022-11-26T11:01:44.732276Z",
     "iopub.status.idle": "2022-11-26T11:01:45.178753Z",
     "shell.execute_reply": "2022-11-26T11:01:45.177762Z"
    },
    "papermill": {
     "duration": 0.454569,
     "end_time": "2022-11-26T11:01:45.181065",
     "exception": false,
     "start_time": "2022-11-26T11:01:44.726496",
     "status": "completed"
    },
    "tags": []
   },
   "outputs": [
    {
     "data": {
      "application/javascript": [
       "parent.postMessage({\"jupyterEvent\": \"custom.exercise_interaction\", \"data\": {\"outcomeType\": 1, \"valueTowardsCompletion\": 0.25, \"interactionType\": 1, \"questionType\": 2, \"questionId\": \"4_CreatePlot\", \"learnToolsVersion\": \"0.3.4\", \"failureMessage\": \"\", \"exceptionClass\": \"\", \"trace\": \"\"}}, \"*\")"
      ],
      "text/plain": [
       "<IPython.core.display.Javascript object>"
      ]
     },
     "metadata": {},
     "output_type": "display_data"
    },
    {
     "data": {
      "text/markdown": [
       "<span style=\"color:#33cc33\">Correct:</span> \n",
       "\n"
      ],
      "text/plain": [
       "Correct: \n"
      ]
     },
     "metadata": {},
     "output_type": "display_data"
    },
    {
     "data": {
      "image/png": "[encoded data removed]",
      "text/plain": [
       "<Figure size 432x288 with 1 Axes>"
      ]
     },
     "metadata": {
      "needs_background": "light"
     },
     "output_type": "display_data"
    }
   ],
   "source": [
    "# Create a plot\n",
    "#sns.lineplot(data=my_data, x=\"laps\", y=\"milliseconds\", hue=\"driverId\") # Your code here\n",
    "sns.barplot(data=my_data, x=\"Company\", y=\"Layoff\")\n",
    "\n",
    "# Check that a figure appears below\n",
    "step_4.check()"
   ]
  },
  {
   "cell_type": "markdown",
   "id": "48456077",
   "metadata": {
    "papermill": {
     "duration": 0.004491,
     "end_time": "2022-11-26T11:01:45.190402",
     "exception": false,
     "start_time": "2022-11-26T11:01:45.185911",
     "status": "completed"
    },
    "tags": []
   },
   "source": [
    "## Keep going\n",
    "\n",
    "Learn how to use your skills after completing the micro-course to create data visualizations in a **[final tutorial](https://www.kaggle.com/alexisbcook/creating-your-own-notebooks)**."
   ]
  },
  {
   "cell_type": "markdown",
   "id": "444c86e4",
   "metadata": {
    "papermill": {
     "duration": 0.004509,
     "end_time": "2022-11-26T11:01:45.200689",
     "exception": false,
     "start_time": "2022-11-26T11:01:45.196180",
     "status": "completed"
    },
    "tags": []
   },
   "source": [
    "---\n",
    "\n",
    "\n",
    "\n",
    "\n",
    "*Have questions or comments? Visit the [course discussion forum](https://www.kaggle.com/learn/data-visualization/discussion) to chat with other learners.*"
   ]
  }
 ],
 "metadata": {
  "kernelspec": {
   "display_name": "Python 3",
   "language": "python",
   "name": "python3"
  },
  "language_info": {
   "codemirror_mode": {
    "name": "ipython",
    "version": 3
   },
   "file_extension": ".py",
   "mimetype": "text/x-python",
   "name": "python",
   "nbconvert_exporter": "python",
   "pygments_lexer": "ipython3",
   "version": "3.7.12"
  },
  "papermill": {
   "default_parameters": {},
   "duration": 12.398385,
   "end_time": "2022-11-26T11:01:45.930633",
   "environment_variables": {},
   "exception": null,
   "input_path": "__notebook__.ipynb",
   "output_path": "__notebook__.ipynb",
   "parameters": {},
   "start_time": "2022-11-26T11:01:33.532248",
   "version": "2.3.4"
  }
 },
 "nbformat": 4,
 "nbformat_minor": 5
}
